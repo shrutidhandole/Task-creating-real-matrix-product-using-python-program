{
 "cells": [
  {
   "cell_type": "markdown",
   "id": "d865ab8d",
   "metadata": {},
   "source": [
    "# Assignment"
   ]
  },
  {
   "cell_type": "markdown",
   "id": "0025e60c",
   "metadata": {},
   "source": [
    "\n",
    "<font color = 'red' size = 3>Problem Statement 1 :Write a Python program to multiply a M * N matrix by N * A matrix and create a real matrix product</font>"
   ]
  },
  {
   "cell_type": "code",
   "execution_count": 1,
   "id": "ce8bae49",
   "metadata": {},
   "outputs": [],
   "source": [
    "import numpy as np"
   ]
  },
  {
   "cell_type": "code",
   "execution_count": 2,
   "id": "12679904",
   "metadata": {},
   "outputs": [
    {
     "name": "stdout",
     "output_type": "stream",
     "text": [
      "M*N (5*3) Matrix = \n",
      "[[0.01440722 0.80048983 0.26235381]\n",
      " [0.03005962 0.29423498 0.06781514]\n",
      " [0.86916458 0.32968969 0.92621185]\n",
      " [0.18825784 0.38675292 0.58002547]\n",
      " [0.99293022 0.09787782 0.21223781]]\n",
      "\n",
      "N*A (3*2) Matrix = \n",
      "[[0.99655322 0.13451172]\n",
      " [0.09294089 0.01270142]\n",
      " [0.03675642 0.50173385]]\n",
      "\n",
      "The Real matrix product(Dot_Matrix) = \n",
      "[[0.09839899 0.14373709]\n",
      " [0.05979512 0.04180573]\n",
      " [0.93085465 0.58581219]\n",
      " [0.24487378 0.32125361]\n",
      " [1.00640576 0.24129083]]\n"
     ]
    }
   ],
   "source": [
    "# creating M *N Matrix(5*3)\n",
    "\n",
    "arr1 = np.random.random((5,3))\n",
    "print(\"M*N (5*3) Matrix = \")\n",
    "print(arr1)\n",
    "print()\n",
    "\n",
    "# Creating N*A Matrix(3*2)\n",
    "\n",
    "arr2 = np.random.random((3,2))\n",
    "print(\"N*A (3*2) Matrix = \")\n",
    "print(arr2)\n",
    "print()\n",
    "\n",
    "# Multiplying two matrix\n",
    "\n",
    "Dot_Matrix = np.dot(arr1,arr2)\n",
    "print(\"The Real matrix product(Dot_Matrix) = \")\n",
    "print(Dot_Matrix)\n"
   ]
  },
  {
   "cell_type": "markdown",
   "id": "bc7fbd55",
   "metadata": {},
   "source": [
    "\n",
    "<font color= 'red' size = 3>Problem Statement 2 :Write a NumPy program to check if each element of an array of your choice is composed of digits, \n",
    "lower case letters, and upper case letters only.</font>"
   ]
  },
  {
   "cell_type": "code",
   "execution_count": 3,
   "id": "8e09ae90",
   "metadata": {},
   "outputs": [
    {
     "name": "stdout",
     "output_type": "stream",
     "text": [
      "array =  ['C++' 'java' 'NET' 'Maths' '9' 'LOGIC' '89']\n",
      "\n",
      "Digits only =  [False False False False  True False  True]\n",
      "\n",
      "lowercase only =  [False  True False False False False False]\n",
      "\n",
      "Uppercase only =  [ True False  True False False  True False]\n"
     ]
    }
   ],
   "source": [
    "array = np.array([\"C++\",\"java\",\"NET\",\"Maths\", 9 ,\"LOGIC\", 89])\n",
    "print(\"array = \",array)\n",
    "print()\n",
    "\n",
    "x = np.char.isdigit(array)\n",
    "y = np.char.islower(array)\n",
    "z = np.char.isupper(array)\n",
    "\n",
    "print(\"Digits only = \", x)\n",
    "print()\n",
    "print(\"lowercase only = \", y)\n",
    "print()\n",
    "print(\"Uppercase only = \", z)\n"
   ]
  },
  {
   "cell_type": "markdown",
   "id": "5fac7915",
   "metadata": {},
   "source": [
    "\n",
    "<font color='red' size = 3>Problem Statement 3 :Write a program thatreads two space-separated positive integers X and Y as input and perform the\n",
    "following tasks </font>"
   ]
  },
  {
   "cell_type": "code",
   "execution_count": 13,
   "id": "8a68541c",
   "metadata": {},
   "outputs": [
    {
     "name": "stdout",
     "output_type": "stream",
     "text": [
      "Enter the Two positive number X Y : \n",
      "2 3\n",
      "X :  2\n",
      "Y :  3\n"
     ]
    }
   ],
   "source": [
    "print(\"Enter the Two positive number X Y : \")\n",
    "X,Y= input().split()\n",
    "print(\"X : \",int(X))\n",
    "print(\"Y : \",int(Y))"
   ]
  },
  {
   "cell_type": "markdown",
   "id": "d4d4537e",
   "metadata": {},
   "source": [
    "<font color='blue' size=3>Create a list (lst1) starting at one (1) with 16 elements at a step of X</font>"
   ]
  },
  {
   "cell_type": "code",
   "execution_count": 15,
   "id": "419d1596",
   "metadata": {},
   "outputs": [
    {
     "name": "stdout",
     "output_type": "stream",
     "text": [
      "lst1 :  [ 1  3  5  7  9 11 13 15 17 19 21 23 25 27 29 31]\n"
     ]
    }
   ],
   "source": [
    "lst1 = np.arange(1,32,2)\n",
    "print(\"lst1 : \",lst1)"
   ]
  },
  {
   "cell_type": "markdown",
   "id": "934567a5",
   "metadata": {},
   "source": [
    "<font color='blue' size=3>Create a list (lst2) starting at one (1) with 16 elements at a step of Y</font>"
   ]
  },
  {
   "cell_type": "code",
   "execution_count": 18,
   "id": "477f89b1",
   "metadata": {},
   "outputs": [
    {
     "name": "stdout",
     "output_type": "stream",
     "text": [
      "lst2 :  [ 1  4  7 10 13 16 19 22 25 28 31 34 37 40 43 46]\n"
     ]
    }
   ],
   "source": [
    "lst2 = np.arange(1,48,3)\n",
    "print(\"lst2 : \",lst2)"
   ]
  },
  {
   "cell_type": "markdown",
   "id": "ab19ac8c",
   "metadata": {},
   "source": [
    "<font color='blue' size=3>Create two NumPy arrays np1 and np2 using lst1 and lst2 respectively</font>"
   ]
  },
  {
   "cell_type": "code",
   "execution_count": 25,
   "id": "64bed213",
   "metadata": {},
   "outputs": [
    {
     "name": "stdout",
     "output_type": "stream",
     "text": [
      "np1 :  [ 1  3  5  7  9 11 13 15 17 19 21 23 25 27 29 31] np2 : [ 1  4  7 10 13 16 19 22 25 28 31 34 37 40 43 46]\n"
     ]
    }
   ],
   "source": [
    "np1 = np.array(lst1)\n",
    "np2 = np.array(lst2)\n",
    "print(\"np1 : \",np1 ,\"np2 :\", np2)"
   ]
  },
  {
   "cell_type": "markdown",
   "id": "2900fe5c",
   "metadata": {},
   "source": [
    "<font color='blue' size =3>Reshape both the NumPy arrays to (4,4)</font>"
   ]
  },
  {
   "cell_type": "code",
   "execution_count": 31,
   "id": "5ca6ea52",
   "metadata": {},
   "outputs": [
    {
     "name": "stdout",
     "output_type": "stream",
     "text": [
      "np1 : \n",
      "[[ 1  3  5  7]\n",
      " [ 9 11 13 15]\n",
      " [17 19 21 23]\n",
      " [25 27 29 31]]\n",
      "\n",
      "np2 : \n",
      "[[ 1  4  7 10]\n",
      " [13 16 19 22]\n",
      " [25 28 31 34]\n",
      " [37 40 43 46]]\n"
     ]
    }
   ],
   "source": [
    "print(\"np1 : \")\n",
    "print(np1.reshape(4,4))\n",
    "print()\n",
    "print(\"np2 : \")\n",
    "print(np2.reshape(4,4))"
   ]
  },
  {
   "cell_type": "markdown",
   "id": "924d4183",
   "metadata": {},
   "source": [
    "<font color='blue' size =3>Create a new np array (np3) with values obtained by subtracting both the arrays (np1 -np2)</font>"
   ]
  },
  {
   "cell_type": "code",
   "execution_count": 36,
   "id": "bfb8228a",
   "metadata": {},
   "outputs": [
    {
     "name": "stdout",
     "output_type": "stream",
     "text": [
      "np3 : \n",
      "[  0  -1  -2  -3  -4  -5  -6  -7  -8  -9 -10 -11 -12 -13 -14 -15]\n"
     ]
    }
   ],
   "source": [
    "# np3 = np.subtract(np1,np2)\n",
    "np3 = np1 - np2\n",
    "print(\"np3 : \")\n",
    "print(np3)"
   ]
  },
  {
   "cell_type": "markdown",
   "id": "73a47d8a",
   "metadata": {},
   "source": [
    "<font color='blue' size=3>Print all the elements of np3 in a single dimension list like the format </font>"
   ]
  },
  {
   "cell_type": "code",
   "execution_count": 37,
   "id": "3c4f814c",
   "metadata": {},
   "outputs": [
    {
     "name": "stdout",
     "output_type": "stream",
     "text": [
      "[  0  -1  -2  -3  -4  -5  -6  -7  -8  -9 -10 -11 -12 -13 -14 -15]\n"
     ]
    }
   ],
   "source": [
    "print(np3)"
   ]
  },
  {
   "cell_type": "markdown",
   "id": "57659f12",
   "metadata": {},
   "source": [
    "<font color='red' size = 3>problem statement 4 :\n",
    "    Write a Python program thattakes two integer-NumPy arrays, P and Q of shape [3∗3]and performthe following task</font>"
   ]
  },
  {
   "cell_type": "code",
   "execution_count": 64,
   "id": "54926f6e",
   "metadata": {},
   "outputs": [
    {
     "name": "stdout",
     "output_type": "stream",
     "text": [
      "P : \n",
      "[[23  6 12]\n",
      " [34 32 13]\n",
      " [ 8 16 26]]\n",
      "Q : \n",
      "[[12  3 10]\n",
      " [21  5 11]\n",
      " [14  9 22]]\n"
     ]
    }
   ],
   "source": [
    "P = np.array([[23,6,12],[34,32,13],[8,16,26]])\n",
    "Q = np.array([[12,3,10],[21,5,11],[14,9,22]])\n",
    "print(\"P : \")\n",
    "print(P)\n",
    "print(\"Q : \")\n",
    "print(Q)"
   ]
  },
  {
   "cell_type": "markdown",
   "id": "515afb87",
   "metadata": {},
   "source": [
    "<font color='blue' size=3>Print the element-wise difference of the matrix P and Q(P−Q)</font>"
   ]
  },
  {
   "cell_type": "code",
   "execution_count": 65,
   "id": "e9974e8e",
   "metadata": {},
   "outputs": [
    {
     "name": "stdout",
     "output_type": "stream",
     "text": [
      "Difference\n",
      "[[11  3  2]\n",
      " [13 27  2]\n",
      " [-6  7  4]]\n"
     ]
    }
   ],
   "source": [
    "Difference = np.subtract(P,Q)\n",
    "print(\"Difference\")\n",
    "print(Difference)"
   ]
  }
 ],
 "metadata": {
  "kernelspec": {
   "display_name": "Python 3 (ipykernel)",
   "language": "python",
   "name": "python3"
  },
  "language_info": {
   "codemirror_mode": {
    "name": "ipython",
    "version": 3
   },
   "file_extension": ".py",
   "mimetype": "text/x-python",
   "name": "python",
   "nbconvert_exporter": "python",
   "pygments_lexer": "ipython3",
   "version": "3.11.5"
  }
 },
 "nbformat": 4,
 "nbformat_minor": 5
}
